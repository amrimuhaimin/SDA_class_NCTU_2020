{
  "nbformat": 4,
  "nbformat_minor": 0,
  "metadata": {
    "colab": {
      "name": "sda_class_fitting_elephant.ipynb",
      "provenance": [],
      "collapsed_sections": []
    },
    "kernelspec": {
      "name": "python3",
      "display_name": "Python 3"
    }
  },
  "cells": [
    {
      "cell_type": "code",
      "metadata": {
        "id": "re4_azqD9b0r"
      },
      "source": [
        "import matplotlib\n",
        "#%matplotlib\n",
        "from matplotlib import animation\n",
        "from numpy import append, cos, linspace, pi, sin, zeros\n",
        "import matplotlib.pyplot as plt"
      ],
      "execution_count": 2,
      "outputs": []
    },
    {
      "cell_type": "code",
      "metadata": {
        "id": "3HL7dbij9pMz",
        "outputId": "2d256783-0135-4da8-eac2-83550a9be37f",
        "colab": {
          "base_uri": "https://localhost:8080/",
          "height": 248
        }
      },
      "source": [
        "#set parameter to create DNA or gene plot\n",
        "parameters = [0 - 15j, 5+2j, -5-5j, -14+40j, 0+0j]\n",
        "#create fourier function\n",
        "def fourier(t, C):\n",
        "  f = zeros(t.shape)\n",
        "  for k in range(len(C)):\n",
        "    f += C.real[k] * cos(k*t) + C.imag[k] * sin(k*t)\n",
        "  return f\n",
        "#create shape of gene function from elephan function\n",
        "def elephant(t, p):\n",
        "  npar = 6\n",
        "  Cx = zeros((npar,), dtype='complex')\n",
        "  Cy = zeros((npar,), dtype='complex')\n",
        "  Cx[1] = p[0].real * 1j\n",
        "  Cy[1] = p[3].imag + p[0].imag * 1j\n",
        "  Cx[2] = p[1].real * 1j\n",
        "  Cy[2] = p[1].imag * 1j\n",
        "  Cx[3] = p[2].real\n",
        "  Cy[3] = p[2].imag * 1j\n",
        "  Cx[5] = p[3].real\n",
        "  x = append(fourier(t, Cy), [p[4].imag])\n",
        "  y = -append(fourier(t, Cx), [-p[4].imag])\n",
        "  return x, y\n",
        "\n",
        "def init_plot():\n",
        "  # draw the structure of dna\n",
        "  x, y = elephant(linspace(2.9 * pi, 0.4 + 3.3 * pi, 1000), parameters)\n",
        "  for ii in range(len(y) - 1):\n",
        "    y[ii] -= sin(((x[ii] - x[0]) * pi / len(y))) * sin(float(0)) * parameters[4].real\n",
        "  trunk.set_data(x, y)\n",
        "  return trunk,\n",
        "\n",
        "def move_trunk(i):\n",
        "  x, y = elephant(linspace(2.9 * pi, 0.4 + 3.3 * pi, 1000), parameters)\n",
        "  # move trunk to new position (but don't move eye stored at end or array)\n",
        "  for ii in range(len(y) - 1):\n",
        "      y[ii] -= sin(((x[ii] - x[0]) * pi / len(y))) * sin(float(i)) * parameters[4].real\n",
        "  trunk.set_data(x, y)\n",
        "  return trunk,\n",
        "\n",
        "fig, ax = plt.subplots()\n",
        "\n",
        "# initial the elephant body\n",
        "x, y = elephant(t=linspace(0.4 + 1.3 * pi, 2.9 * pi, 1000), p=parameters)\n",
        "plt.plot(x, y, 'b.')\n",
        "plt.xlim([-75, 90])\n",
        "plt.ylim([-70, 87])\n",
        "plt.axis('off')\n",
        "trunk, = ax.plot([], [], 'b.')  # initialize trunk\n",
        "\n",
        "ani = animation.FuncAnimation(fig=fig,\n",
        "                              func=move_trunk,\n",
        "                              frames=1000,\n",
        "                              init_func=init_plot,\n",
        "                              interval=500,\n",
        "                              blit=False,\n",
        "                              repeat=True)\n",
        "plt.show()"
      ],
      "execution_count": 3,
      "outputs": [
        {
          "output_type": "display_data",
          "data": {
            "image/png": "[encoded data removed]",
            "text/plain": [
              "<Figure size 432x288 with 1 Axes>"
            ]
          },
          "metadata": {
            "tags": [],
            "needs_background": "light"
          }
        }
      ]
    },
    {
      "cell_type": "code",
      "metadata": {
        "id": "5GiBu9LtCtdv"
      },
      "source": [
        "#download the animated\n",
        "Writer = animation.writers['ffmpeg']\n",
        "metadata = dict(title='Elephant Trunk Wiggling', artist='Junjie Hu')\n",
        "writer = Writer(fps=30, metadata=metadata, bitrate=1800)\n",
        "ani.save(filename='dna_gene_wiggle.mp4', writer=writer)"
      ],
      "execution_count": null,
      "outputs": []
    }
  ]
}